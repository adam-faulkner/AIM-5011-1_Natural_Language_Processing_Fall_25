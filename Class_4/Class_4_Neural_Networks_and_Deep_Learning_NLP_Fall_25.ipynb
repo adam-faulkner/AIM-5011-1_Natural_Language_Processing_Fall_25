{
  "cells": [
    {
      "cell_type": "markdown",
      "metadata": {
        "id": "tt1bcsSqDpXb"
      },
      "source": [
        "# Class 4: Neural Networks and Deep Learning\n",
        "\n",
        "**Topics**\n",
        "\n",
        "* RNNs\n",
        "* LSTMs\n",
        "\n",
        "**Libraries**: Pytorch\n",
        "\n",
        "\n",
        "**Reading**\n",
        "\n",
        "* [Goodfellow, Bengio, & Courville: Introduction](https://www.deeplearningbook.org/contents/intro.html)\n",
        "* [Jurafsky & Martin Chapter 6: Neural Networks](https://web.stanford.edu/~jurafsky/slp3/6.pdf)\n",
        "* [Jurafsky & Martin Chapter 13: RNNs and LSTMs](https://web.stanford.edu/~jurafsky/slp3/13.pdf)\n",
        "\n",
        "\n",
        "\n",
        "## 1. RNNs\n",
        "\n",
        "Adapted from [this](https://docs.pytorch.org/tutorials/intermediate/char_rnn_classification_tutorial.html) Pytorch tutorial\n",
        "\n",
        "\n",
        "### Classifying Names with a Character-Level RNN\n",
        "\n",
        "\n",
        "We will be building and training a basic character-level Recurrent\n",
        "Neural Network (RNN) to classify words.\n",
        "\n",
        "A character-level RNN reads words as a series of characters -outputting\n",
        "a prediction and \\\"hidden state\\\" at each step, feeding its previous\n",
        "hidden state into each next step. We take the final prediction to be the\n",
        "output, i.e. which class the word belongs to.\n",
        "\n",
        "Specifically, we\\'ll train on a few thousand surnames from 18 languages\n",
        "of origin, and predict which language a name is from based on the\n",
        "spelling.\n"
      ]
    },
    {
      "cell_type": "markdown",
      "metadata": {
        "id": "NWC3LgA0DpXd"
      },
      "source": [
        "#### Preparing Torch\n",
        "\n",
        "\n",
        "Set up torch to default to the right device use GPU acceleration\n",
        "depending on your hardware (CPU or CUDA).\n"
      ]
    },
    {
      "cell_type": "code",
      "execution_count": null,
      "metadata": {
        "id": "GgIMbGHmDpXd"
      },
      "outputs": [],
      "source": [
        "import torch\n",
        "\n",
        "# Check if CUDA is available\n",
        "device = torch.device('cpu')\n",
        "if torch.cuda.is_available():\n",
        "    device = torch.device('cuda')\n",
        "\n",
        "torch.set_default_device(device)\n",
        "print(f\"Using device = {torch.get_default_device()}\")"
      ]
    },
    {
      "cell_type": "markdown",
      "metadata": {
        "id": "YrjdIJ4wDpXe"
      },
      "source": [
        "#### Preparing the Data\n",
        "\n",
        "Download the data from\n",
        "[here](https://download.pytorch.org/tutorial/data.zip) and extract it to\n",
        "the current directory.\n",
        "\n",
        "Included in the `data/names` directory are 18 text files named as\n",
        "`[Language].txt`. Each file contains a bunch of names, one name per\n",
        "line, mostly romanized (but we still need to convert from Unicode to\n",
        "ASCII).\n",
        "\n",
        "The first step is to define and clean our data. Initially, we need to\n",
        "convert Unicode to plain ASCII to limit the RNN input layers. This is\n",
        "accomplished by converting Unicode strings to ASCII and allowing only a\n",
        "small set of allowed characters.\n"
      ]
    },
    {
      "cell_type": "code",
      "source": [
        "!unzip data.zip"
      ],
      "metadata": {
        "id": "WsWTagU0FnEn"
      },
      "execution_count": null,
      "outputs": []
    },
    {
      "cell_type": "code",
      "execution_count": null,
      "metadata": {
        "id": "Vw0m4wDnDpXf"
      },
      "outputs": [],
      "source": [
        "import string\n",
        "import unicodedata\n",
        "\n",
        "# We can use \"_\" to represent an out-of-vocabulary character, that is, any character we are not handling in our model\n",
        "allowed_characters = string.ascii_letters + \" .,;'\" + \"_\"\n",
        "n_letters = len(allowed_characters)\n",
        "\n",
        "# Turn a Unicode string to plain ASCII, thanks to https://stackoverflow.com/a/518232/2809427\n",
        "def unicodeToAscii(s):\n",
        "    return ''.join(\n",
        "        c for c in unicodedata.normalize('NFD', s)\n",
        "        if unicodedata.category(c) != 'Mn'\n",
        "        and c in allowed_characters\n",
        "    )"
      ]
    },
    {
      "cell_type": "markdown",
      "metadata": {
        "id": "wsJpG6ixDpXf"
      },
      "source": [
        "Here\\'s an example of converting a unicode alphabet name to plain ASCII.\n",
        "This simplifies the input layer\n"
      ]
    },
    {
      "cell_type": "code",
      "execution_count": null,
      "metadata": {
        "id": "3SINfrtfDpXg"
      },
      "outputs": [],
      "source": [
        "print (f\"converting 'Ślusàrski' to {unicodeToAscii('Ślusàrski')}\")"
      ]
    },
    {
      "cell_type": "markdown",
      "metadata": {
        "id": "FDr4wAAkDpXg"
      },
      "source": [
        "#### Turning Names into Tensors\n",
        "\n",
        "\n",
        "Now that we have all the names organized, we need to turn them into\n",
        "Tensors to make use of them.\n",
        "\n",
        "To represent a single letter, we use a \\\"one-hot vector\\\" of size\n",
        "`<1 x n_letters>`. A one-hot vector is filled with 0s except for a 1 at\n",
        "index of the current letter, e.g. `\"b\" = <0 1 0 0 0 ...>`.\n",
        "\n",
        "To make a word we join a bunch of those into a 2D matrix\n",
        "`<line_length x 1 x n_letters>`.\n",
        "\n",
        "That extra 1 dimension is because PyTorch assumes everything is in\n",
        "batches - we\\'re just using a batch size of 1 here.\n"
      ]
    },
    {
      "cell_type": "code",
      "execution_count": null,
      "metadata": {
        "id": "0ABXSCqcDpXh"
      },
      "outputs": [],
      "source": [
        "# Find letter index from all_letters, e.g. \"a\" = 0\n",
        "def letterToIndex(letter):\n",
        "    # return our out-of-vocabulary character if we encounter a letter unknown to our model\n",
        "    if letter not in allowed_characters:\n",
        "        return allowed_characters.find(\"_\")\n",
        "    else:\n",
        "        return allowed_characters.find(letter)\n",
        "\n",
        "# Turn a line into a <line_length x 1 x n_letters>,\n",
        "# or an array of one-hot letter vectors\n",
        "def lineToTensor(line):\n",
        "    tensor = torch.zeros(len(line), 1, n_letters)\n",
        "    for li, letter in enumerate(line):\n",
        "        tensor[li][0][letterToIndex(letter)] = 1\n",
        "    return tensor"
      ]
    },
    {
      "cell_type": "markdown",
      "metadata": {
        "id": "k3cvz7DWDpXh"
      },
      "source": [
        "Here are some examples of how to use `lineToTensor()` for a single and\n",
        "multiple character string.\n"
      ]
    },
    {
      "cell_type": "code",
      "execution_count": null,
      "metadata": {
        "id": "KtrxnwORDpXh"
      },
      "outputs": [],
      "source": [
        "print (f\"The letter 'a' becomes {lineToTensor('a')}\") #notice that the first position in the tensor = 1\n",
        "print (f\"The name 'Ahn' becomes {lineToTensor('Ahn')}\") #notice 'A' sets the 27th index to 1"
      ]
    },
    {
      "cell_type": "markdown",
      "metadata": {
        "id": "ettQiRbzDpXi"
      },
      "source": [
        "Next, we need to combine all our examples into a dataset so we can\n",
        "train, test and validate our models. For this, we will use the [Dataset\n",
        "and\n",
        "DataLoader](https://pytorch.org/tutorials/beginner/basics/data_tutorial.html)\n",
        "classes to hold our dataset. Each Dataset needs to implement three\n",
        "functions: `__init__`, `__len__`, and `__getitem__`.\n"
      ]
    },
    {
      "cell_type": "code",
      "execution_count": null,
      "metadata": {
        "id": "PIWYmIwFDpXi"
      },
      "outputs": [],
      "source": [
        "from io import open\n",
        "import glob\n",
        "import os\n",
        "import time\n",
        "\n",
        "import torch\n",
        "from torch.utils.data import Dataset\n",
        "\n",
        "class NamesDataset(Dataset):\n",
        "\n",
        "    def __init__(self, data_dir):\n",
        "        self.data_dir = data_dir #for provenance of the dataset\n",
        "        self.load_time = time.localtime #for provenance of the dataset\n",
        "        labels_set = set() #set of all classes\n",
        "\n",
        "        self.data = []\n",
        "        self.data_tensors = []\n",
        "        self.labels = []\n",
        "        self.labels_tensors = []\n",
        "\n",
        "        #read all the ``.txt`` files in the specified directory\n",
        "        text_files = glob.glob(os.path.join(data_dir, '*.txt'))\n",
        "        for filename in text_files:\n",
        "            label = os.path.splitext(os.path.basename(filename))[0]\n",
        "            labels_set.add(label)\n",
        "            lines = open(filename, encoding='utf-8').read().strip().split('\\n')\n",
        "            for name in lines:\n",
        "                self.data.append(name)\n",
        "                self.data_tensors.append(lineToTensor(name))\n",
        "                self.labels.append(label)\n",
        "\n",
        "        #Cache the tensor representation of the labels\n",
        "        self.labels_uniq = list(labels_set)\n",
        "        for idx in range(len(self.labels)):\n",
        "            temp_tensor = torch.tensor([self.labels_uniq.index(self.labels[idx])], dtype=torch.long)\n",
        "            self.labels_tensors.append(temp_tensor)\n",
        "\n",
        "    def __len__(self):\n",
        "        return len(self.data)\n",
        "\n",
        "    def __getitem__(self, idx):\n",
        "        data_item = self.data[idx]\n",
        "        data_label = self.labels[idx]\n",
        "        data_tensor = self.data_tensors[idx]\n",
        "        label_tensor = self.labels_tensors[idx]\n",
        "\n",
        "        return label_tensor, data_tensor, data_label, data_item"
      ]
    },
    {
      "cell_type": "markdown",
      "metadata": {
        "id": "yQ8V4SyIDpXi"
      },
      "source": [
        "Here we can load our example data into the `NamesDataset`\n"
      ]
    },
    {
      "cell_type": "code",
      "execution_count": null,
      "metadata": {
        "id": "-IjUFj5KDpXj"
      },
      "outputs": [],
      "source": [
        "alldata = NamesDataset(\"data/names\")\n",
        "print(f\"loaded {len(alldata)} items of data\")\n",
        "print(f\"example = {alldata[0]}\")"
      ]
    },
    {
      "cell_type": "markdown",
      "metadata": {
        "id": "d172pyAiDpXj"
      },
      "source": [
        "Using the dataset object allows us to easily split the data into train and test sets. Here we create a 80/20 split but the `torch.utils.data` has more useful utilities. Here we specify a generator since we need to use the same device as PyTorch defaults to above.\n"
      ]
    },
    {
      "cell_type": "code",
      "execution_count": null,
      "metadata": {
        "id": "MUMbP1U9DpXj"
      },
      "outputs": [],
      "source": [
        "train_set, test_set = torch.utils.data.random_split(alldata, [.85, .15], generator=torch.Generator(device=device).manual_seed(2024))\n",
        "\n",
        "print(f\"train examples = {len(train_set)}, validation examples = {len(test_set)}\")"
      ]
    },
    {
      "cell_type": "markdown",
      "metadata": {
        "id": "AxFgvKz0DpXj"
      },
      "source": [
        "Now we have a basic dataset containing **20074** examples where each\n",
        "example is a pairing of label and name. We have also split the dataset\n",
        "into training and testing so we can validate the model that we build.\n"
      ]
    },
    {
      "cell_type": "markdown",
      "metadata": {
        "id": "pEPg1ybsDpXj"
      },
      "source": [
        "#### Creating the Network\n",
        "\n",
        "\n",
        "##### Autograd\n",
        "\n",
        "The layers containing hidden states and the gradients used for uodates  handled by the \"autograd\" graph. Autograd in PyTorch is the automatic differentiation engine that powers neural network training. It enables the computation of gradients for any computational graph, which is crucial for optimizing model parameters using algorithms like backpropagation.\n",
        "\n",
        "##### The CharRNN class\n",
        "\n",
        "Our CharRNN class implements an RNN with three components. First, we\n",
        "use the [nn.RNN\n",
        "implementation](https://pytorch.org/docs/stable/generated/torch.nn.RNN.html).\n",
        "Next, we define a layer that maps the RNN hidden layers to our output.\n",
        "And finally, we apply a `softmax` function. Using `nn.RNN` leads to a\n",
        "significant improvement in performance, such as cuDNN-accelerated\n",
        "kernels, versus implementing each layer as a `nn.Linear`. It also\n",
        "simplifies the implementation in `forward()`.\n"
      ]
    },
    {
      "cell_type": "code",
      "execution_count": null,
      "metadata": {
        "id": "6tf7xcVRDpXk"
      },
      "outputs": [],
      "source": [
        "import torch.nn as nn\n",
        "import torch.nn.functional as F\n",
        "\n",
        "class CharRNN(nn.Module):\n",
        "    def __init__(self, input_size, hidden_size, output_size):\n",
        "        super(CharRNN, self).__init__()\n",
        "\n",
        "        self.rnn = nn.RNN(input_size, hidden_size)\n",
        "        self.h2o = nn.Linear(hidden_size, output_size)\n",
        "        self.softmax = nn.LogSoftmax(dim=1)\n",
        "\n",
        "    def forward(self, line_tensor):\n",
        "        rnn_out, hidden = self.rnn(line_tensor)\n",
        "        output = self.h2o(hidden[0])\n",
        "        output = self.softmax(output)\n",
        "\n",
        "        return output"
      ]
    },
    {
      "cell_type": "markdown",
      "metadata": {
        "id": "61xTNFp7DpXk"
      },
      "source": [
        "We can then create an RNN with 58 input nodes, 128 hidden nodes, and 18\n",
        "outputs:\n"
      ]
    },
    {
      "cell_type": "code",
      "execution_count": null,
      "metadata": {
        "id": "ExPFsvGADpXk"
      },
      "outputs": [],
      "source": [
        "n_hidden = 128\n",
        "rnn = CharRNN(n_letters, n_hidden, len(alldata.labels_uniq))\n",
        "print(rnn)"
      ]
    },
    {
      "cell_type": "markdown",
      "metadata": {
        "id": "ZLXGZmYEDpXk"
      },
      "source": [
        "After that we can pass our Tensor to the RNN to obtain a predicted\n",
        "output. Subsequently, we use a helper function, `label_from_output`, to\n",
        "derive a text label for the class.\n"
      ]
    },
    {
      "cell_type": "code",
      "execution_count": null,
      "metadata": {
        "id": "KI5kyUimDpXk"
      },
      "outputs": [],
      "source": [
        "def label_from_output(output, output_labels):\n",
        "    top_n, top_i = output.topk(1)\n",
        "    label_i = top_i[0].item()\n",
        "    return output_labels[label_i], label_i\n",
        "\n",
        "input = lineToTensor('Albert')\n",
        "output = rnn(input) #this is equivalent to ``output = rnn.forward(input)``\n",
        "print(output)\n",
        "print(label_from_output(output, alldata.labels_uniq))"
      ]
    },
    {
      "cell_type": "markdown",
      "metadata": {
        "id": "P-kvz3HvDpXl"
      },
      "source": [
        "#### Training the Network\n",
        "\n",
        "\n",
        "Now all it takes to train this network is show it a bunch of examples,\n",
        "have it make guesses, and tell it if it\\'s wrong.\n",
        "\n",
        "We do this by defining a `train()` function which trains the model on a\n",
        "given dataset using minibatches. RNNs RNNs are trained similarly to\n",
        "other networks; therefore, for completeness, we include a batched\n",
        "training method here. The loop (`for i in batch`) computes the losses\n",
        "for each of the items in the batch before adjusting the weights. This\n",
        "operation is repeated until the number of epochs is reached.\n"
      ]
    },
    {
      "cell_type": "code",
      "execution_count": null,
      "metadata": {
        "id": "C3V_BQw2DpXl"
      },
      "outputs": [],
      "source": [
        "import random\n",
        "import numpy as np\n",
        "\n",
        "def train(rnn, training_data, n_epoch = 10, n_batch_size = 64, report_every = 50, learning_rate = 0.2, criterion = nn.NLLLoss()):\n",
        "    \"\"\"\n",
        "    Learn on a batch of training_data for a specified number of iterations and reporting thresholds\n",
        "    \"\"\"\n",
        "    # Keep track of losses for plotting\n",
        "    current_loss = 0\n",
        "    all_losses = []\n",
        "    rnn.train()\n",
        "    optimizer = torch.optim.SGD(rnn.parameters(), lr=learning_rate)\n",
        "\n",
        "    start = time.time()\n",
        "    print(f\"training on data set with n = {len(training_data)}\")\n",
        "\n",
        "    for iter in range(1, n_epoch + 1):\n",
        "        rnn.zero_grad() # clear the gradients\n",
        "\n",
        "        # create some minibatches\n",
        "        # we cannot use dataloaders because each of our names is a different length\n",
        "        batches = list(range(len(training_data)))\n",
        "        random.shuffle(batches)\n",
        "        batches = np.array_split(batches, len(batches) //n_batch_size )\n",
        "\n",
        "        for idx, batch in enumerate(batches):\n",
        "            batch_loss = 0\n",
        "            for i in batch: #for each example in this batch\n",
        "                (label_tensor, text_tensor, label, text) = training_data[i]\n",
        "                output = rnn.forward(text_tensor)\n",
        "                loss = criterion(output, label_tensor)\n",
        "                batch_loss += loss\n",
        "\n",
        "            # optimize parameters\n",
        "            batch_loss.backward()\n",
        "            nn.utils.clip_grad_norm_(rnn.parameters(), 3)\n",
        "            optimizer.step()\n",
        "            optimizer.zero_grad()\n",
        "\n",
        "            current_loss += batch_loss.item() / len(batch)\n",
        "\n",
        "        all_losses.append(current_loss / len(batches) )\n",
        "        if iter % report_every == 0:\n",
        "            print(f\"{iter} ({iter / n_epoch:.0%}): \\t average batch loss = {all_losses[-1]}\")\n",
        "        current_loss = 0\n",
        "\n",
        "    return all_losses"
      ]
    },
    {
      "cell_type": "markdown",
      "metadata": {
        "id": "T89GZO_zDpXl"
      },
      "source": [
        "We can now train a dataset with minibatches for a specified number of\n",
        "epochs. The number of epochs for this example is reduced to speed up the\n",
        "build. You can get better results with different parameters.\n"
      ]
    },
    {
      "cell_type": "code",
      "execution_count": null,
      "metadata": {
        "id": "Ah7eMgSODpXl"
      },
      "outputs": [],
      "source": [
        "start = time.time()\n",
        "all_losses = train(rnn, train_set, n_epoch=27, learning_rate=0.15, report_every=5)\n",
        "end = time.time()\n",
        "print(f\"training took {end-start}s\")"
      ]
    },
    {
      "cell_type": "markdown",
      "metadata": {
        "id": "p0Krm5uwDpXm"
      },
      "source": [
        "#### Plotting the Results\n",
        "\n",
        "\n",
        "Plotting the historical loss from `all_losses` shows the network\n",
        "learning:\n"
      ]
    },
    {
      "cell_type": "code",
      "execution_count": null,
      "metadata": {
        "id": "3GPPqXp9DpXm"
      },
      "outputs": [],
      "source": [
        "import matplotlib.pyplot as plt\n",
        "import matplotlib.ticker as ticker\n",
        "\n",
        "plt.figure()\n",
        "plt.plot(all_losses)\n",
        "plt.show()"
      ]
    },
    {
      "cell_type": "markdown",
      "metadata": {
        "id": "Zsr9y6EaDpXm"
      },
      "source": [
        "#### Evaluating the Results\n",
        "\n",
        "\n",
        "To see how well the network performs on different categories, we will\n",
        "create a confusion matrix, indicating for every actual language (rows)\n",
        "which language the network guesses (columns). To calculate the confusion\n",
        "matrix a bunch of samples are run through the network with `evaluate()`,\n",
        "which is the same as `train()` minus the backprop.\n"
      ]
    },
    {
      "cell_type": "code",
      "execution_count": null,
      "metadata": {
        "id": "CK45ZebqDpXm"
      },
      "outputs": [],
      "source": [
        "def evaluate(rnn, testing_data, classes):\n",
        "    confusion = torch.zeros(len(classes), len(classes))\n",
        "\n",
        "    rnn.eval() #set to eval mode\n",
        "    with torch.no_grad(): # do not record the gradients during eval phase\n",
        "        for i in range(len(testing_data)):\n",
        "            (label_tensor, text_tensor, label, text) = testing_data[i]\n",
        "            output = rnn(text_tensor)\n",
        "            guess, guess_i = label_from_output(output, classes)\n",
        "            label_i = classes.index(label)\n",
        "            confusion[label_i][guess_i] += 1\n",
        "\n",
        "    # Normalize by dividing every row by its sum\n",
        "    for i in range(len(classes)):\n",
        "        denom = confusion[i].sum()\n",
        "        if denom > 0:\n",
        "            confusion[i] = confusion[i] / denom\n",
        "\n",
        "    # Set up plot\n",
        "    fig = plt.figure()\n",
        "    ax = fig.add_subplot(111)\n",
        "    cax = ax.matshow(confusion.cpu().numpy()) #numpy uses cpu here so we need to use a cpu version\n",
        "    fig.colorbar(cax)\n",
        "\n",
        "    # Set up axes\n",
        "    ax.set_xticks(np.arange(len(classes)), labels=classes, rotation=90)\n",
        "    ax.set_yticks(np.arange(len(classes)), labels=classes)\n",
        "\n",
        "    # Force label at every tick\n",
        "    ax.xaxis.set_major_locator(ticker.MultipleLocator(1))\n",
        "    ax.yaxis.set_major_locator(ticker.MultipleLocator(1))\n",
        "\n",
        "    # sphinx_gallery_thumbnail_number = 2\n",
        "    plt.show()\n",
        "\n",
        "\n",
        "\n",
        "evaluate(rnn, test_set, classes=alldata.labels_uniq)"
      ]
    },
    {
      "cell_type": "markdown",
      "metadata": {
        "id": "O5mosHUKDpXm"
      },
      "source": [
        "You can pick out bright spots off the main axis that show which\n",
        "languages it guesses incorrectly, e.g. Chinese for Korean, and Spanish\n",
        "for Italian. It seems to do very well with Greek, and very poorly with\n",
        "English (perhaps because of overlap with other languages).\n"
      ]
    },
    {
      "cell_type": "markdown",
      "metadata": {
        "id": "B5XNx_srDpXn"
      },
      "source": [
        "## 2. LSTMs\n",
        "\n",
        "\n",
        "Adapted from [this](https://docs.pytorch.org/tutorials/beginner/nlp/sequence_models_tutorial.html) Pytorch tutorial"
      ]
    },
    {
      "cell_type": "markdown",
      "source": [
        "\n",
        "As described in the slides and in Jurafsky & Martin Chapter 13,  and LSTM maintains a *hidden state* $h_t$ for each element in a sequence, which in principle can\n",
        "contain information from arbitrary points earlier in the sequence. We\n",
        "can use the hidden state to predict words in a language model,\n",
        "part-of-speech tags, and a myriad of other things.\n",
        "\n",
        "### LSTMs in Pytorch\n",
        "\n",
        "\n",
        "Before getting to the example, note a few things. Pytorch\\'s LSTM\n",
        "expects all of its inputs to be 3D tensors. The semantics of the axes of\n",
        "these tensors is important. The first axis is the sequence itself, the\n",
        "second indexes instances in the mini-batch, and the third indexes\n",
        "elements of the input. We haven\\'t discussed mini-batching, so let\\'s\n",
        "just ignore that and assume we will always have just 1 dimension on the\n",
        "second axis. If we want to run the sequence model over the sentence\n",
        "\\\"The cow jumped\\\", our input should look like\n",
        "\n",
        "$$\\begin{aligned}\n",
        "\\begin{bmatrix}\n",
        "\\overbrace{q_\\text{The}}^\\text{row vector} \\\\\n",
        "q_\\text{cow} \\\\\n",
        "q_\\text{jumped}\n",
        "\\end{bmatrix}\n",
        "\\end{aligned}$$\n",
        "\n",
        "Except remember there is an additional 2nd dimension with size 1.\n",
        "\n",
        "In addition, you could go through the sequence one at a time, in which\n",
        "case the 1st axis will have size 1 also.\n",
        "\n",
        "Let\\'s see a quick example.\n"
      ],
      "metadata": {
        "id": "7L8QMA9VIsA4"
      }
    },
    {
      "cell_type": "code",
      "source": [
        "\n",
        "import torch\n",
        "import torch.nn as nn\n",
        "import torch.nn.functional as F\n",
        "import torch.optim as optim\n",
        "\n",
        "torch.manual_seed(1)"
      ],
      "metadata": {
        "id": "o7BSKPrDJk3l"
      },
      "execution_count": null,
      "outputs": []
    },
    {
      "cell_type": "code",
      "source": [
        "lstm = nn.LSTM(3, 3)  # Input dim is 3, output dim is 3\n",
        "inputs = [torch.randn(1, 3) for _ in range(5)]  # make a sequence of length 5\n",
        "\n",
        "# initialize the hidden state.\n",
        "hidden = (torch.randn(1, 1, 3),\n",
        "          torch.randn(1, 1, 3))\n",
        "for i in inputs:\n",
        "    # Step through the sequence one element at a time.\n",
        "    # after each step, hidden contains the hidden state.\n",
        "    out, hidden = lstm(i.view(1, 1, -1), hidden)\n",
        "\n",
        "# alternatively, we can do the entire sequence all at once.\n",
        "# the first value returned by LSTM is all of the hidden states throughout\n",
        "# the sequence. the second is just the most recent hidden state\n",
        "# (compare the last slice of \"out\" with \"hidden\" below, they are the same)\n",
        "# The reason for this is that:\n",
        "# \"out\" will give you access to all hidden states in the sequence\n",
        "# \"hidden\" will allow you to continue the sequence and backpropagate,\n",
        "# by passing it as an argument  to the lstm at a later time\n",
        "# Add the extra 2nd dimension\n",
        "inputs = torch.cat(inputs).view(len(inputs), 1, -1)\n",
        "hidden = (torch.randn(1, 1, 3), torch.randn(1, 1, 3))  # clean out hidden state\n",
        "out, hidden = lstm(inputs, hidden)\n",
        "print(out)\n",
        "print(hidden)"
      ],
      "metadata": {
        "id": "zJsDojB7Jnhh"
      },
      "execution_count": null,
      "outputs": []
    },
    {
      "cell_type": "markdown",
      "source": [
        "#### An LSTM for Part-of-Speech Tagging\n",
        "\n",
        "In this example, we make use of embeddings. If you are unfamiliar with embeddings, you can read\n",
        "up about them\n",
        "[here](https://pytorch.org/tutorials/beginner/nlp/word_embeddings_tutorial.html).\n",
        "\n",
        "We'll be illustrating the power of LSTMs on a classic sequence tagging task, part-of-speech tagging. This task involves taking a sequence of words and assigning each word a part of speech such as NOUN, VERB, or DET. The lattermost tag might be unfamiliar -- DET is the tag for Determiner, i.e., articles such as *the* and *a*\n",
        "\n",
        "\n",
        "The model is structured as follows: let our input sentence be $w_1, \\dots, w_M$,\n",
        "where $w_i \\in V$, our vocab. Also, let $T$ be our tag set, and $y_i$\n",
        "the tag of word $w_i$. Denote our prediction of the tag of word $w_i$ by\n",
        "$\\hat{y}_i$.\n",
        "\n",
        "This is a structure prediction, model, where our output is a sequence\n",
        "$\\hat{y}_1, \\dots, \\hat{y}_M$, where $\\hat{y}_i \\in T$.\n",
        "\n",
        "To do the prediction, pass an LSTM over the sentence. Denote the hidden\n",
        "state at timestep $i$ as $h_i$. Also, assign each tag a unique index\n",
        "(like how we had word\\_to\\_ix in the word embeddings section). Then our\n",
        "prediction rule for $\\hat{y}_i$ is\n",
        "\n",
        "$$\\hat{y}_i = \\text{argmax}_j \\  (\\log \\text{Softmax}(Ah_i + b))_j$$\n",
        "\n",
        "That is, take the log softmax of the affine map of the hidden state, and\n",
        "the predicted tag is the tag that has the maximum value in this vector.\n",
        "Note this implies immediately that the dimensionality of the target\n",
        "space of $A$ is $|T|$.\n",
        "\n",
        "Prepare data:\n"
      ],
      "metadata": {
        "id": "vtpKoILeJ16F"
      }
    },
    {
      "cell_type": "code",
      "source": [
        "def prepare_sequence(seq, to_ix):\n",
        "    idxs = [to_ix[w] for w in seq]\n",
        "    return torch.tensor(idxs, dtype=torch.long)\n",
        "\n",
        "\n",
        "training_data = [\n",
        "    # Tags are: DET - determiner; NN - noun; V - verb\n",
        "    # For example, the word \"The\" is a determiner\n",
        "    (\"The dog ate the apple\".split(), [\"DET\", \"NN\", \"V\", \"DET\", \"NN\"]),\n",
        "    (\"Everybody read that book\".split(), [\"NN\", \"V\", \"DET\", \"NN\"])\n",
        "]\n",
        "word_to_ix = {}\n",
        "# For each words-list (sentence) and tags-list in each tuple of training_data\n",
        "for sent, tags in training_data:\n",
        "    for word in sent:\n",
        "        if word not in word_to_ix:  # word has not been assigned an index yet\n",
        "            word_to_ix[word] = len(word_to_ix)  # Assign each word with a unique index\n",
        "print(word_to_ix)\n",
        "tag_to_ix = {\"DET\": 0, \"NN\": 1, \"V\": 2}  # Assign each tag with a unique index\n",
        "\n",
        "# These will usually be more like 32 or 64 dimensional.\n",
        "# We will keep them small, so we can see how the weights change as we train.\n",
        "EMBEDDING_DIM = 6\n",
        "HIDDEN_DIM = 6"
      ],
      "metadata": {
        "id": "Gw9agTYLJybZ"
      },
      "execution_count": null,
      "outputs": []
    },
    {
      "cell_type": "markdown",
      "source": [
        "Create class LSTMTAgger"
      ],
      "metadata": {
        "id": "8W_eelxFKYLe"
      }
    },
    {
      "cell_type": "code",
      "source": [
        "class LSTMTagger(nn.Module):\n",
        "\n",
        "    def __init__(self, embedding_dim, hidden_dim, vocab_size, tagset_size):\n",
        "        super(LSTMTagger, self).__init__()\n",
        "        self.hidden_dim = hidden_dim\n",
        "\n",
        "        self.word_embeddings = nn.Embedding(vocab_size, embedding_dim)\n",
        "\n",
        "        # The LSTM takes word embeddings as inputs, and outputs hidden states\n",
        "        # with dimensionality hidden_dim.\n",
        "        self.lstm = nn.LSTM(embedding_dim, hidden_dim)\n",
        "\n",
        "        # The linear layer that maps from hidden state space to tag space\n",
        "        self.hidden2tag = nn.Linear(hidden_dim, tagset_size)\n",
        "\n",
        "    def forward(self, sentence):\n",
        "        embeds = self.word_embeddings(sentence)\n",
        "        lstm_out, _ = self.lstm(embeds.view(len(sentence), 1, -1))\n",
        "        tag_space = self.hidden2tag(lstm_out.view(len(sentence), -1))\n",
        "        tag_scores = F.log_softmax(tag_space, dim=1)\n",
        "        return tag_scores"
      ],
      "metadata": {
        "id": "VJb-M2mmJyZC"
      },
      "execution_count": null,
      "outputs": []
    },
    {
      "cell_type": "markdown",
      "source": [
        "Train the tagger"
      ],
      "metadata": {
        "id": "0MwTY-XZKda3"
      }
    },
    {
      "cell_type": "code",
      "source": [
        "model = LSTMTagger(EMBEDDING_DIM, HIDDEN_DIM, len(word_to_ix), len(tag_to_ix))\n",
        "loss_function = nn.NLLLoss()\n",
        "optimizer = optim.SGD(model.parameters(), lr=0.1)\n",
        "\n",
        "# See what the scores are before training\n",
        "# Note that element i,j of the output is the score for tag j for word i.\n",
        "# Here we don't need to train, so the code is wrapped in torch.no_grad()\n",
        "with torch.no_grad():\n",
        "    inputs = prepare_sequence(training_data[0][0], word_to_ix)\n",
        "    tag_scores = model(inputs)\n",
        "    print(tag_scores)\n",
        "\n",
        "for epoch in range(300):  # again, normally you would NOT do 300 epochs, it is toy data\n",
        "    for sentence, tags in training_data:\n",
        "        # Step 1. Remember that Pytorch accumulates gradients.\n",
        "        # We need to clear them out before each instance\n",
        "        model.zero_grad()\n",
        "\n",
        "        # Step 2. Get our inputs ready for the network, that is, turn them into\n",
        "        # Tensors of word indices.\n",
        "        sentence_in = prepare_sequence(sentence, word_to_ix)\n",
        "        targets = prepare_sequence(tags, tag_to_ix)\n",
        "\n",
        "        # Step 3. Run our forward pass.\n",
        "        tag_scores = model(sentence_in)\n",
        "\n",
        "        # Step 4. Compute the loss, gradients, and update the parameters by\n",
        "        #  calling optimizer.step()\n",
        "        loss = loss_function(tag_scores, targets)\n",
        "        loss.backward()\n",
        "        optimizer.step()\n",
        "\n"
      ],
      "metadata": {
        "id": "nURIQtEHJyWy"
      },
      "execution_count": null,
      "outputs": []
    },
    {
      "cell_type": "markdown",
      "source": [
        "#### Examine model predictions for \"The dog ate the apple\""
      ],
      "metadata": {
        "id": "bmK3yAkCLSvp"
      }
    },
    {
      "cell_type": "code",
      "source": [
        "test_example = training_data[0][0]\n",
        "test_example"
      ],
      "metadata": {
        "id": "eQa3dvNuJyTd"
      },
      "execution_count": null,
      "outputs": []
    },
    {
      "cell_type": "markdown",
      "source": [
        "Let's remind ourselves of the indices for each POS tag"
      ],
      "metadata": {
        "id": "qg_AuZYgLv8m"
      }
    },
    {
      "cell_type": "code",
      "source": [
        "tag_to_ix"
      ],
      "metadata": {
        "id": "J6yZd1lTL17L"
      },
      "execution_count": null,
      "outputs": []
    },
    {
      "cell_type": "markdown",
      "source": [
        "Run the model over the sequence"
      ],
      "metadata": {
        "id": "-SRsQ_6_MGty"
      }
    },
    {
      "cell_type": "code",
      "source": [
        "scores = []\n",
        "with torch.no_grad():\n",
        "    inputs = prepare_sequence(training_data[0][0], word_to_ix)\n",
        "    tag_scores = model(inputs)\n",
        "    scores = tag_scores"
      ],
      "metadata": {
        "id": "haZRcuBPJyK9"
      },
      "execution_count": null,
      "outputs": []
    },
    {
      "cell_type": "markdown",
      "source": [
        "In the output prediction, i,j corresponds to score for tag j for word i."
      ],
      "metadata": {
        "id": "x3UyXka6MZeM"
      }
    },
    {
      "cell_type": "code",
      "source": [
        "scores"
      ],
      "metadata": {
        "id": "U2GSRYGKMX6r"
      },
      "execution_count": null,
      "outputs": []
    },
    {
      "cell_type": "markdown",
      "source": [
        "Let's get the index of the max of each prediction and get the POS tag corresponding to the index."
      ],
      "metadata": {
        "id": "Ruq3cFa_Mqf6"
      }
    },
    {
      "cell_type": "code",
      "source": [
        "# Get the index of the max score for each word (row)\n",
        "predicted_indices = torch.argmax(scores, dim=1)\n",
        "\n",
        "# Create a mapping from index to tag for easy lookup\n",
        "ix_to_tag = {v: k for k, v in tag_to_ix.items()}\n",
        "\n",
        "# Get the predicted tags\n",
        "predicted_tags = [ix_to_tag[idx.item()] for idx in predicted_indices]\n",
        "\n",
        "print(\"Predicted tags:\", list(zip(test_example,predicted_tags)))"
      ],
      "metadata": {
        "id": "osvdPEF5MwyH"
      },
      "execution_count": null,
      "outputs": []
    },
    {
      "cell_type": "markdown",
      "source": [
        "Correct!"
      ],
      "metadata": {
        "id": "O_VIyCsiNhK3"
      }
    }
  ],
  "metadata": {
    "kernelspec": {
      "display_name": "Python 3",
      "name": "python3"
    },
    "language_info": {
      "codemirror_mode": {
        "name": "ipython",
        "version": 3
      },
      "file_extension": ".py",
      "mimetype": "text/x-python",
      "name": "python",
      "nbconvert_exporter": "python",
      "pygments_lexer": "ipython3",
      "version": "3.10.12"
    },
    "colab": {
      "provenance": [],
      "gpuType": "T4"
    },
    "accelerator": "GPU"
  },
  "nbformat": 4,
  "nbformat_minor": 0
}